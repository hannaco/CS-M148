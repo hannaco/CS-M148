{
 "cells": [
  {
   "cell_type": "code",
   "execution_count": 1,
   "id": "836187fe",
   "metadata": {},
   "outputs": [],
   "source": [
    "from sklearn.datasets import make_regression\n",
    "from sklearn.model_selection import train_test_split\n",
    "from sklearn.ensemble import RandomForestRegressor, BaggingRegressor\n",
    "from matplotlib import pyplot\n",
    "from sklearn.model_selection import RandomizedSearchCV\n",
    "from sklearn import metrics\n",
    "import numpy as np\n",
    "X, y = make_regression(n_features=10, n_informative=5, random_state=10, shuffle=False, n_samples=1000)"
   ]
  },
  {
   "cell_type": "code",
   "execution_count": 2,
   "id": "409dd0c4",
   "metadata": {},
   "outputs": [],
   "source": [
    "X_train, X_test, y_train, y_test = train_test_split(X, y, test_size=0.2, random_state=10)"
   ]
  },
  {
   "cell_type": "code",
   "execution_count": 3,
   "id": "b2c323b1",
   "metadata": {},
   "outputs": [
    {
     "data": {
      "text/plain": [
       "RandomForestRegressor(max_depth=5, max_features=2)"
      ]
     },
     "execution_count": 3,
     "metadata": {},
     "output_type": "execute_result"
    }
   ],
   "source": [
    "RFR = RandomForestRegressor(n_estimators=100, max_depth=5, max_features=2)\n",
    "RFR.fit(X_train, y_train)"
   ]
  },
  {
   "cell_type": "code",
   "execution_count": 4,
   "id": "104596e5",
   "metadata": {},
   "outputs": [
    {
     "name": "stdout",
     "output_type": "stream",
     "text": [
      "R-squared score: 0.6600074764084175\n"
     ]
    }
   ],
   "source": [
    "y_pred = RFR.predict(X_test)\n",
    "r2 = metrics.r2_score(y_test, y_pred)\n",
    "print('R-squared score:', r2)"
   ]
  },
  {
   "cell_type": "code",
   "execution_count": 5,
   "id": "bebd180c",
   "metadata": {},
   "outputs": [
    {
     "name": "stdout",
     "output_type": "stream",
     "text": [
      "Fitting 5 folds for each of 100 candidates, totalling 500 fits\n",
      "Best Parameters:  {'n_estimators': 790, 'max_features': 'auto', 'max_depth': 81, 'bootstrap': True}  \n",
      "\n"
     ]
    }
   ],
   "source": [
    "n_estimators = [int(x) for x in np.linspace(start=100, stop=1000, num=100)]\n",
    "max_depth = [int(x) for x in np.linspace(10, 100, num = 20)] \n",
    "max_features = ['auto', 'sqrt', 'log2']\n",
    "bootstrap = [True, False]\n",
    "random_grid = {'n_estimators': n_estimators,\n",
    "'max_features': max_features,\n",
    "'max_depth': max_depth,\n",
    "'bootstrap': bootstrap\n",
    "}\n",
    "rf = RandomForestRegressor()\n",
    "rf_random = RandomizedSearchCV(estimator = rf,param_distributions = random_grid,\n",
    "               n_iter = 100, cv = 5, verbose=2, random_state=10, n_jobs = -1)\n",
    "rf_random.fit(X_train, y_train)\n",
    "print ('Best Parameters: ', rf_random.best_params_, ' \\n')"
   ]
  },
  {
   "cell_type": "code",
   "execution_count": 6,
   "id": "f36012fc",
   "metadata": {},
   "outputs": [
    {
     "name": "stdout",
     "output_type": "stream",
     "text": [
      "R-squared score: 0.9178773643094609\n"
     ]
    }
   ],
   "source": [
    "RFR_2 = RandomForestRegressor(n_estimators=372, max_features='auto', max_depth=19, bootstrap=True)\n",
    "RFR_2.fit(X_train, y_train)\n",
    "y_pred = RFR_2.predict(X_test)\n",
    "r2 = metrics.r2_score(y_test, y_pred)\n",
    "print('R-squared score:', r2)"
   ]
  },
  {
   "cell_type": "code",
   "execution_count": 7,
   "id": "8ac356ce",
   "metadata": {},
   "outputs": [
    {
     "name": "stdout",
     "output_type": "stream",
     "text": [
      "Feature: 0, Score: 0.07970\n",
      "Feature: 1, Score: 0.05148\n",
      "Feature: 2, Score: 0.44063\n",
      "Feature: 3, Score: 0.00944\n",
      "Feature: 4, Score: 0.38767\n",
      "Feature: 5, Score: 0.00613\n",
      "Feature: 6, Score: 0.00668\n",
      "Feature: 7, Score: 0.00660\n",
      "Feature: 8, Score: 0.00593\n",
      "Feature: 9, Score: 0.00574\n"
     ]
    },
    {
     "data": {
      "image/png": "[encoded data removed]",
      "text/plain": [
       "<Figure size 432x288 with 1 Axes>"
      ]
     },
     "metadata": {
      "needs_background": "light"
     },
     "output_type": "display_data"
    }
   ],
   "source": [
    "importance = RFR_2.feature_importances_\n",
    "# summarize feature importance\n",
    "for i,v in enumerate(importance):\n",
    "\tprint('Feature: %0d, Score: %.5f' % (i,v))\n",
    "# plot feature importance\n",
    "pyplot.bar([x for x in range(len(importance))], importance)\n",
    "pyplot.show()"
   ]
  },
  {
   "cell_type": "code",
   "execution_count": 8,
   "id": "585cd1cb",
   "metadata": {},
   "outputs": [
    {
     "name": "stdout",
     "output_type": "stream",
     "text": [
      "R-squared score: 0.9073055087205397\n"
     ]
    }
   ],
   "source": [
    "bc = BaggingRegressor(base_estimator=RFR_2)\n",
    "bc.fit(X_train, y_train)\n",
    "y_pred = bc.predict(X_test)\n",
    "r2 = metrics.r2_score(y_test, y_pred)\n",
    "print('R-squared score:', r2)"
   ]
  },
  {
   "cell_type": "code",
   "execution_count": 9,
   "id": "43ba0f58",
   "metadata": {},
   "outputs": [
    {
     "name": "stdout",
     "output_type": "stream",
     "text": [
      "Feature: 0, Score: 0.07499\n",
      "Feature: 1, Score: 0.05035\n",
      "Feature: 2, Score: 0.46957\n",
      "Feature: 3, Score: 0.01144\n",
      "Feature: 4, Score: 0.35737\n",
      "Feature: 5, Score: 0.00715\n",
      "Feature: 6, Score: 0.00730\n",
      "Feature: 7, Score: 0.00728\n",
      "Feature: 8, Score: 0.00714\n",
      "Feature: 9, Score: 0.00742\n"
     ]
    },
    {
     "data": {
      "image/png": "[encoded data removed]",
      "text/plain": [
       "<Figure size 432x288 with 1 Axes>"
      ]
     },
     "metadata": {
      "needs_background": "light"
     },
     "output_type": "display_data"
    }
   ],
   "source": [
    "feature_importances = np.mean([\n",
    "    tree.feature_importances_ for tree in bc.estimators_\n",
    "], axis=0)\n",
    "\n",
    "# summarize feature importance\n",
    "for i,v in enumerate(feature_importances):\n",
    "\tprint('Feature: %0d, Score: %.5f' % (i,v))\n",
    "# plot feature importance\n",
    "pyplot.bar([x for x in range(len(feature_importances))], feature_importances)\n",
    "pyplot.show()"
   ]
  },
  {
   "cell_type": "code",
   "execution_count": null,
   "id": "da11de21",
   "metadata": {},
   "outputs": [],
   "source": []
  }
 ],
 "metadata": {
  "kernelspec": {
   "display_name": "Python 3 (ipykernel)",
   "language": "python",
   "name": "python3"
  },
  "language_info": {
   "codemirror_mode": {
    "name": "ipython",
    "version": 3
   },
   "file_extension": ".py",
   "mimetype": "text/x-python",
   "name": "python",
   "nbconvert_exporter": "python",
   "pygments_lexer": "ipython3",
   "version": "3.9.7"
  }
 },
 "nbformat": 4,
 "nbformat_minor": 5
}
