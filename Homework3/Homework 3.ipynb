{
 "cells": [
  {
   "cell_type": "code",
   "execution_count": 1,
   "id": "836187fe",
   "metadata": {},
   "outputs": [],
   "source": [
    "from sklearn.datasets import make_regression\n",
    "from sklearn.model_selection import train_test_split\n",
    "from sklearn.ensemble import RandomForestRegressor, BaggingClassifier\n",
    "from matplotlib import pyplot\n",
    "from sklearn import metrics\n",
    "X, y = make_regression(n_features=10, n_informative=5, random_state=10, shuffle=False, n_samples=1000)"
   ]
  },
  {
   "cell_type": "code",
   "execution_count": 2,
   "id": "409dd0c4",
   "metadata": {},
   "outputs": [],
   "source": [
    "X_train, X_test, y_train, y_test = train_test_split(X, y, test_size=0.2, random_state=10)"
   ]
  },
  {
   "cell_type": "code",
   "execution_count": 3,
   "id": "b2c323b1",
   "metadata": {},
   "outputs": [
    {
     "data": {
      "text/plain": [
       "RandomForestRegressor(max_depth=5, max_features=2)"
      ]
     },
     "execution_count": 3,
     "metadata": {},
     "output_type": "execute_result"
    }
   ],
   "source": [
    "RFR = RandomForestRegressor(n_estimators=100, max_depth=5, max_features=2)\n",
    "RFR.fit(X_train, y_train)"
   ]
  },
  {
   "cell_type": "code",
   "execution_count": 4,
   "id": "104596e5",
   "metadata": {},
   "outputs": [
    {
     "name": "stdout",
     "output_type": "stream",
     "text": [
      "R-squared score: 0.66396479279256\n"
     ]
    }
   ],
   "source": [
    "y_pred = RFR.predict(X_test)\n",
    "r2 = metrics.r2_score(y_test, y_pred)\n",
    "print('R-squared score:', r2)"
   ]
  },
  {
   "cell_type": "code",
   "execution_count": 5,
   "id": "f36012fc",
   "metadata": {},
   "outputs": [
    {
     "name": "stdout",
     "output_type": "stream",
     "text": [
      "R-squared score: 0.9126937215469095\n"
     ]
    }
   ],
   "source": [
    "RFR_2 = RandomForestRegressor(n_estimators=100, max_depth=12, max_features=5)\n",
    "RFR_2.fit(X_train, y_train)\n",
    "y_pred = RFR_2.predict(X_test)\n",
    "r2 = metrics.r2_score(y_test, y_pred)\n",
    "print('R-squared score:', r2)"
   ]
  },
  {
   "cell_type": "code",
   "execution_count": 6,
   "id": "8ac356ce",
   "metadata": {},
   "outputs": [
    {
     "name": "stdout",
     "output_type": "stream",
     "text": [
      "Feature: 0, Score: 0.09115\n",
      "Feature: 1, Score: 0.06385\n",
      "Feature: 2, Score: 0.40772\n",
      "Feature: 3, Score: 0.01777\n",
      "Feature: 4, Score: 0.36103\n",
      "Feature: 5, Score: 0.01203\n",
      "Feature: 6, Score: 0.01089\n",
      "Feature: 7, Score: 0.01281\n",
      "Feature: 8, Score: 0.01167\n",
      "Feature: 9, Score: 0.01108\n"
     ]
    },
    {
     "data": {
      "image/png": "[encoded data removed]",
      "text/plain": [
       "<Figure size 432x288 with 1 Axes>"
      ]
     },
     "metadata": {
      "needs_background": "light"
     },
     "output_type": "display_data"
    }
   ],
   "source": [
    "importance = RFR_2.feature_importances_\n",
    "# summarize feature importance\n",
    "for i,v in enumerate(importance):\n",
    "\tprint('Feature: %0d, Score: %.5f' % (i,v))\n",
    "# plot feature importance\n",
    "pyplot.bar([x for x in range(len(importance))], importance)\n",
    "pyplot.show()"
   ]
  },
  {
   "cell_type": "code",
   "execution_count": 7,
   "id": "585cd1cb",
   "metadata": {},
   "outputs": [
    {
     "name": "stdout",
     "output_type": "stream",
     "text": [
      "R-squared score: 0.909346682787281\n"
     ]
    }
   ],
   "source": [
    "bc = RandomForestRegressor(n_estimators=100, max_depth=12, max_features=5)\n",
    "bc.fit(X_train, y_train)\n",
    "y_pred = bc.predict(X_test)\n",
    "r2 = metrics.r2_score(y_test, y_pred)\n",
    "print('R-squared score:', r2)"
   ]
  },
  {
   "cell_type": "code",
   "execution_count": 8,
   "id": "43ba0f58",
   "metadata": {},
   "outputs": [
    {
     "name": "stdout",
     "output_type": "stream",
     "text": [
      "Feature: 0, Score: 0.08923\n",
      "Feature: 1, Score: 0.07499\n",
      "Feature: 2, Score: 0.39943\n",
      "Feature: 3, Score: 0.01831\n",
      "Feature: 4, Score: 0.35618\n",
      "Feature: 5, Score: 0.01241\n",
      "Feature: 6, Score: 0.01226\n",
      "Feature: 7, Score: 0.01192\n",
      "Feature: 8, Score: 0.01328\n",
      "Feature: 9, Score: 0.01199\n"
     ]
    },
    {
     "data": {
      "image/png": "[encoded data removed]",
      "text/plain": [
       "<Figure size 432x288 with 1 Axes>"
      ]
     },
     "metadata": {
      "needs_background": "light"
     },
     "output_type": "display_data"
    }
   ],
   "source": [
    "importance = bc.feature_importances_\n",
    "# summarize feature importance\n",
    "for i,v in enumerate(importance):\n",
    "\tprint('Feature: %0d, Score: %.5f' % (i,v))\n",
    "# plot feature importance\n",
    "pyplot.bar([x for x in range(len(importance))], importance)\n",
    "pyplot.show()"
   ]
  },
  {
   "cell_type": "code",
   "execution_count": null,
   "id": "da11de21",
   "metadata": {},
   "outputs": [],
   "source": []
  }
 ],
 "metadata": {
  "kernelspec": {
   "display_name": "Python 3 (ipykernel)",
   "language": "python",
   "name": "python3"
  },
  "language_info": {
   "codemirror_mode": {
    "name": "ipython",
    "version": 3
   },
   "file_extension": ".py",
   "mimetype": "text/x-python",
   "name": "python",
   "nbconvert_exporter": "python",
   "pygments_lexer": "ipython3",
   "version": "3.9.7"
  }
 },
 "nbformat": 4,
 "nbformat_minor": 5
}
