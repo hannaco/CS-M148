{
 "cells": [
  {
   "cell_type": "code",
   "execution_count": 1,
   "id": "dfe3c75f",
   "metadata": {},
   "outputs": [],
   "source": [
    "from sklearn.datasets import fetch_olivetti_faces\n",
    "from sklearn.model_selection import train_test_split\n",
    "from sklearn import metrics\n",
    "import matplotlib.pyplot as plt\n",
    "from sklearn.neighbors import KNeighborsClassifier\n",
    "X,y = fetch_olivetti_faces(return_X_y=True)"
   ]
  },
  {
   "cell_type": "code",
   "execution_count": 2,
   "id": "fddbe3f3",
   "metadata": {},
   "outputs": [
    {
     "data": {
      "text/plain": [
       "<matplotlib.image.AxesImage at 0x1578921c0>"
      ]
     },
     "execution_count": 2,
     "metadata": {},
     "output_type": "execute_result"
    },
    {
     "data": {
      "image/png": "[encoded data removed]",
      "text/plain": [
       "<Figure size 432x288 with 1 Axes>"
      ]
     },
     "metadata": {
      "needs_background": "light"
     },
     "output_type": "display_data"
    }
   ],
   "source": [
    "plt.imshow(X[1].reshape((64,64)), cmap='gray')"
   ]
  },
  {
   "cell_type": "code",
   "execution_count": 3,
   "id": "75c73ee0",
   "metadata": {},
   "outputs": [],
   "source": [
    "X_train, X_test, y_train, y_test = train_test_split(X, y, test_size=0.3, random_state=148)"
   ]
  },
  {
   "cell_type": "code",
   "execution_count": 4,
   "id": "8de0f579",
   "metadata": {},
   "outputs": [
    {
     "data": {
      "text/plain": [
       "KNeighborsClassifier(n_neighbors=3)"
      ]
     },
     "execution_count": 4,
     "metadata": {},
     "output_type": "execute_result"
    }
   ],
   "source": [
    "model = KNeighborsClassifier(n_neighbors=3)\n",
    "model.fit(X_train, y_train)"
   ]
  },
  {
   "cell_type": "code",
   "execution_count": 5,
   "id": "2afc330e",
   "metadata": {},
   "outputs": [
    {
     "name": "stdout",
     "output_type": "stream",
     "text": [
      "              precision    recall  f1-score   support\n",
      "\n",
      "           0       1.00      0.50      0.67         6\n",
      "           1       1.00      1.00      1.00         3\n",
      "           2       0.50      1.00      0.67         3\n",
      "           3       0.33      0.20      0.25         5\n",
      "           4       0.00      0.00      0.00         0\n",
      "           5       1.00      1.00      1.00         2\n",
      "           6       1.00      1.00      1.00         2\n",
      "           7       1.00      0.67      0.80         3\n",
      "           8       0.75      1.00      0.86         3\n",
      "           9       1.00      0.50      0.67         2\n",
      "          10       1.00      1.00      1.00         4\n",
      "          11       1.00      1.00      1.00         3\n",
      "          12       0.33      0.25      0.29         4\n",
      "          13       1.00      1.00      1.00         2\n",
      "          14       0.33      1.00      0.50         2\n",
      "          15       0.50      0.50      0.50         2\n",
      "          16       1.00      0.80      0.89         5\n",
      "          17       0.60      1.00      0.75         3\n",
      "          18       1.00      1.00      1.00         1\n",
      "          19       1.00      0.67      0.80         3\n",
      "          20       1.00      1.00      1.00         5\n",
      "          21       1.00      1.00      1.00         3\n",
      "          22       0.50      0.20      0.29         5\n",
      "          23       1.00      1.00      1.00         1\n",
      "          24       1.00      1.00      1.00         4\n",
      "          25       1.00      1.00      1.00         2\n",
      "          26       1.00      1.00      1.00         2\n",
      "          27       1.00      0.80      0.89         5\n",
      "          28       1.00      1.00      1.00         3\n",
      "          29       1.00      1.00      1.00         4\n",
      "          30       1.00      1.00      1.00         2\n",
      "          31       1.00      0.75      0.86         4\n",
      "          32       1.00      1.00      1.00         1\n",
      "          33       1.00      1.00      1.00         5\n",
      "          35       1.00      0.75      0.86         4\n",
      "          36       1.00      1.00      1.00         2\n",
      "          37       1.00      0.80      0.89         5\n",
      "          38       1.00      1.00      1.00         3\n",
      "          39       0.25      0.50      0.33         2\n",
      "\n",
      "    accuracy                           0.80       120\n",
      "   macro avg       0.85      0.82      0.81       120\n",
      "weighted avg       0.87      0.80      0.81       120\n",
      "\n"
     ]
    },
    {
     "name": "stderr",
     "output_type": "stream",
     "text": [
      "/opt/homebrew/lib/python3.9/site-packages/sklearn/metrics/_classification.py:1318: UndefinedMetricWarning: Recall and F-score are ill-defined and being set to 0.0 in labels with no true samples. Use `zero_division` parameter to control this behavior.\n",
      "  _warn_prf(average, modifier, msg_start, len(result))\n",
      "/opt/homebrew/lib/python3.9/site-packages/sklearn/metrics/_classification.py:1318: UndefinedMetricWarning: Recall and F-score are ill-defined and being set to 0.0 in labels with no true samples. Use `zero_division` parameter to control this behavior.\n",
      "  _warn_prf(average, modifier, msg_start, len(result))\n",
      "/opt/homebrew/lib/python3.9/site-packages/sklearn/metrics/_classification.py:1318: UndefinedMetricWarning: Recall and F-score are ill-defined and being set to 0.0 in labels with no true samples. Use `zero_division` parameter to control this behavior.\n",
      "  _warn_prf(average, modifier, msg_start, len(result))\n"
     ]
    }
   ],
   "source": [
    "y_pred = model.predict(X_test)\n",
    "print(metrics.classification_report(y_test, y_pred))"
   ]
  },
  {
   "cell_type": "code",
   "execution_count": 6,
   "id": "85f758f2",
   "metadata": {},
   "outputs": [
    {
     "name": "stdout",
     "output_type": "stream",
     "text": [
      "Optimization terminated successfully.\n",
      "         Current function value: 1.548647\n",
      "         Iterations 7\n",
      "                          MNLogit Regression Results                          \n",
      "==============================================================================\n",
      "Dep. Variable:                    PID   No. Observations:                  944\n",
      "Model:                        MNLogit   Df Residuals:                      908\n",
      "Method:                           MLE   Df Model:                           30\n",
      "Date:                Mon, 14 Feb 2022   Pseudo R-squ.:                  0.1648\n",
      "Time:                        10:57:18   Log-Likelihood:                -1461.9\n",
      "converged:                       True   LL-Null:                       -1750.3\n",
      "Covariance Type:            nonrobust   LLR p-value:                1.822e-102\n",
      "==============================================================================\n",
      "     PID=1       coef    std err          z      P>|z|      [0.025      0.975]\n",
      "------------------------------------------------------------------------------\n",
      "logpopul      -0.0115      0.034     -0.336      0.736      -0.079       0.056\n",
      "selfLR         0.2977      0.094      3.180      0.001       0.114       0.481\n",
      "age           -0.0249      0.007     -3.823      0.000      -0.038      -0.012\n",
      "educ           0.0825      0.074      1.121      0.262      -0.062       0.227\n",
      "income         0.0052      0.018      0.295      0.768      -0.029       0.040\n",
      "const         -0.3734      0.630     -0.593      0.553      -1.608       0.861\n",
      "------------------------------------------------------------------------------\n",
      "     PID=2       coef    std err          z      P>|z|      [0.025      0.975]\n",
      "------------------------------------------------------------------------------\n",
      "logpopul      -0.0888      0.039     -2.266      0.023      -0.166      -0.012\n",
      "selfLR         0.3917      0.108      3.619      0.000       0.180       0.604\n",
      "age           -0.0229      0.008     -2.893      0.004      -0.038      -0.007\n",
      "educ           0.1810      0.085      2.123      0.034       0.014       0.348\n",
      "income         0.0479      0.022      2.149      0.032       0.004       0.092\n",
      "const         -2.2509      0.763     -2.949      0.003      -3.747      -0.755\n",
      "------------------------------------------------------------------------------\n",
      "     PID=3       coef    std err          z      P>|z|      [0.025      0.975]\n",
      "------------------------------------------------------------------------------\n",
      "logpopul      -0.1060      0.057     -1.858      0.063      -0.218       0.006\n",
      "selfLR         0.5735      0.159      3.617      0.000       0.263       0.884\n",
      "age           -0.0149      0.011     -1.311      0.190      -0.037       0.007\n",
      "educ          -0.0072      0.126     -0.057      0.955      -0.255       0.240\n",
      "income         0.0576      0.034      1.713      0.087      -0.008       0.123\n",
      "const         -3.6656      1.157     -3.169      0.002      -5.932      -1.399\n",
      "------------------------------------------------------------------------------\n",
      "     PID=4       coef    std err          z      P>|z|      [0.025      0.975]\n",
      "------------------------------------------------------------------------------\n",
      "logpopul      -0.0916      0.044     -2.091      0.037      -0.177      -0.006\n",
      "selfLR         1.2788      0.129      9.921      0.000       1.026       1.531\n",
      "age           -0.0087      0.008     -1.031      0.302      -0.025       0.008\n",
      "educ           0.1998      0.094      2.123      0.034       0.015       0.384\n",
      "income         0.0845      0.026      3.226      0.001       0.033       0.136\n",
      "const         -7.6138      0.958     -7.951      0.000      -9.491      -5.737\n",
      "------------------------------------------------------------------------------\n",
      "     PID=5       coef    std err          z      P>|z|      [0.025      0.975]\n",
      "------------------------------------------------------------------------------\n",
      "logpopul      -0.0933      0.039     -2.371      0.018      -0.170      -0.016\n",
      "selfLR         1.3470      0.117     11.494      0.000       1.117       1.577\n",
      "age           -0.0179      0.008     -2.352      0.019      -0.033      -0.003\n",
      "educ           0.2169      0.085      2.552      0.011       0.050       0.384\n",
      "income         0.0810      0.023      3.524      0.000       0.036       0.126\n",
      "const         -7.0605      0.844     -8.362      0.000      -8.715      -5.406\n",
      "------------------------------------------------------------------------------\n",
      "     PID=6       coef    std err          z      P>|z|      [0.025      0.975]\n",
      "------------------------------------------------------------------------------\n",
      "logpopul      -0.1409      0.042     -3.343      0.001      -0.223      -0.058\n",
      "selfLR         2.0701      0.143     14.435      0.000       1.789       2.351\n",
      "age           -0.0094      0.008     -1.160      0.246      -0.025       0.007\n",
      "educ           0.3219      0.091      3.534      0.000       0.143       0.500\n",
      "income         0.1089      0.025      4.304      0.000       0.059       0.158\n",
      "const        -12.1058      1.060    -11.421      0.000     -14.183     -10.028\n",
      "==============================================================================\n"
     ]
    }
   ],
   "source": [
    "import statsmodels.api as sm\n",
    "anes_data = sm.datasets.anes96.load()\n",
    "X = sm.add_constant(anes_data.exog, prepend=False)\n",
    "y = anes_data.endog\n",
    "mdl = sm.MNLogit(y, X)\n",
    "mdl_fit = mdl.fit()\n",
    "print (mdl_fit.summary())"
   ]
  },
  {
   "cell_type": "code",
   "execution_count": null,
   "id": "2180a61b",
   "metadata": {},
   "outputs": [],
   "source": []
  }
 ],
 "metadata": {
  "kernelspec": {
   "display_name": "Python 3 (ipykernel)",
   "language": "python",
   "name": "python3"
  },
  "language_info": {
   "codemirror_mode": {
    "name": "ipython",
    "version": 3
   },
   "file_extension": ".py",
   "mimetype": "text/x-python",
   "name": "python",
   "nbconvert_exporter": "python",
   "pygments_lexer": "ipython3",
   "version": "3.9.7"
  }
 },
 "nbformat": 4,
 "nbformat_minor": 5
}
