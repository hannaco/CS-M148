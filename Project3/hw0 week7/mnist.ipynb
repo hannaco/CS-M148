{
 "cells": [
  {
   "cell_type": "markdown",
   "metadata": {},
   "source": [
    "# Sample Code for MNIST Handwritten Digit Recognition in PyTorch\n"
   ]
  },
  {
   "cell_type": "markdown",
   "metadata": {},
   "source": [
    "## pytorch install\n",
    "conda install torchvision -c pytorch"
   ]
  },
  {
   "cell_type": "code",
   "execution_count": 11,
   "metadata": {},
   "outputs": [],
   "source": [
    "import numpy as np\n",
    "import torch\n",
    "import torchvision\n",
    "from torchvision.datasets import MNIST\n",
    "from torchvision import transforms\n",
    "SEED = 1\n",
    "# CUDA?\n",
    "cuda = torch.cuda.is_available()\n",
    "\n",
    "# For reproducibility\n",
    "torch.manual_seed(SEED)\n",
    "if cuda:\n",
    "    torch.cuda.manual_seed(SEED)"
   ]
  },
  {
   "cell_type": "code",
   "execution_count": 12,
   "metadata": {},
   "outputs": [],
   "source": [
    "batch_size_train = 64\n",
    "batch_size_test = 1000"
   ]
  },
  {
   "cell_type": "code",
   "execution_count": 13,
   "metadata": {},
   "outputs": [],
   "source": [
    "train_loader = torch.utils.data.DataLoader(\n",
    "  torchvision.datasets.MNIST('./data', train=True, download=True,\n",
    "                             transform=torchvision.transforms.Compose([\n",
    "                               torchvision.transforms.ToTensor(),\n",
    "                               torchvision.transforms.Normalize(\n",
    "                                 (0.1307,), (0.3081,))\n",
    "                             ])),\n",
    "  batch_size=batch_size_train, shuffle=True)\n",
    "\n",
    "test_loader = torch.utils.data.DataLoader(\n",
    "  torchvision.datasets.MNIST('./data', train=False, download=True,\n",
    "                             transform=torchvision.transforms.Compose([\n",
    "                               torchvision.transforms.ToTensor(),\n",
    "                               torchvision.transforms.Normalize(\n",
    "                                 (0.1307,), (0.3081,))\n",
    "                             ])),\n",
    "batch_size=batch_size_test, shuffle=True)"
   ]
  },
  {
   "cell_type": "code",
   "execution_count": 14,
   "metadata": {},
   "outputs": [],
   "source": [
    "train = MNIST('./data', train=True, download=True, transform=transforms.Compose([\n",
    "    transforms.ToTensor(), # ToTensor does min-max normalization. \n",
    "]), )\n",
    "\n",
    "test = MNIST('./data', train=False, download=True, transform=transforms.Compose([\n",
    "    transforms.ToTensor(), # ToTensor does min-max normalization. \n",
    "]), )"
   ]
  },
  {
   "cell_type": "code",
   "execution_count": 15,
   "metadata": {},
   "outputs": [
    {
     "name": "stderr",
     "output_type": "stream",
     "text": [
      "/Users/leowang7267/anaconda3/lib/python3.8/site-packages/torchvision/datasets/mnist.py:55: UserWarning: train_data has been renamed data\n",
      "  warnings.warn(\"train_data has been renamed data\")\n"
     ]
    },
    {
     "name": "stdout",
     "output_type": "stream",
     "text": [
      "[Train]\n",
      " - Numpy Shape: (60000, 28, 28)\n",
      " - Tensor Shape: torch.Size([60000, 28, 28])\n",
      " - min: tensor(0.)\n",
      " - max: tensor(1.)\n",
      " - mean: tensor(0.1305)\n",
      " - std: tensor(0.3081)\n",
      " - var: tensor(0.0949)\n"
     ]
    }
   ],
   "source": [
    "train_data = train.train_data\n",
    "train_data = train.transform(train_data.numpy())\n",
    "\n",
    "print('[Train]')\n",
    "print(' - Numpy Shape:', train.train_data.cpu().numpy().shape)\n",
    "print(' - Tensor Shape:', train.train_data.size())\n",
    "print(' - min:', torch.min(train_data))\n",
    "print(' - max:', torch.max(train_data))\n",
    "print(' - mean:', torch.mean(train_data))\n",
    "print(' - std:', torch.std(train_data))\n",
    "print(' - var:', torch.var(train_data))"
   ]
  },
  {
   "cell_type": "code",
   "execution_count": 16,
   "metadata": {},
   "outputs": [],
   "source": [
    "examples = enumerate(test_loader)\n",
    "batch_idx, (example_data, example_targets) = next(examples)"
   ]
  },
  {
   "cell_type": "code",
   "execution_count": 17,
   "metadata": {},
   "outputs": [
    {
     "data": {
      "text/plain": [
       "torch.Size([1000, 1, 28, 28])"
      ]
     },
     "execution_count": 17,
     "metadata": {},
     "output_type": "execute_result"
    }
   ],
   "source": [
    "example_data.shape"
   ]
  },
  {
   "cell_type": "code",
   "execution_count": 18,
   "metadata": {},
   "outputs": [
    {
     "data": {
      "image/png": "[encoded data removed]",
      "text/plain": [
       "<Figure size 432x288 with 6 Axes>"
      ]
     },
     "execution_count": 18,
     "metadata": {},
     "output_type": "execute_result"
    },
    {
     "data": {
      "image/png": "[encoded data removed]",
      "text/plain": [
       "<Figure size 432x288 with 6 Axes>"
      ]
     },
     "metadata": {},
     "output_type": "display_data"
    }
   ],
   "source": [
    "import matplotlib.pyplot as plt\n",
    "\n",
    "fig = plt.figure()\n",
    "for i in range(6):\n",
    "  plt.subplot(2,3,i+1)\n",
    "  plt.tight_layout()\n",
    "  plt.imshow(example_data[i][0], cmap='gray', interpolation='none')\n",
    "  plt.title(\"Ground Truth: {}\".format(example_targets[i]))\n",
    "  plt.xticks([])\n",
    "  plt.yticks([])\n",
    "fig"
   ]
  },
  {
   "cell_type": "markdown",
   "metadata": {},
   "source": [
    "## Model"
   ]
  },
  {
   "cell_type": "code",
   "execution_count": 19,
   "metadata": {},
   "outputs": [],
   "source": [
    "import torch.nn as nn\n",
    "import torch.nn.functional as F\n",
    "import torch.optim as optim"
   ]
  },
  {
   "cell_type": "code",
   "execution_count": 21,
   "metadata": {},
   "outputs": [],
   "source": [
    "# One hidden Layer NN\n",
    "class Model(nn.Module):\n",
    "    def __init__(self):\n",
    "        super(Model, self).__init__()\n",
    "        self.fc = nn.Linear(784, 1000)\n",
    "        self.fc2 = nn.Linear(1000, 10)\n",
    "\n",
    "    def forward(self, x):\n",
    "        x = x.view((-1, 784))\n",
    "        h = F.relu(self.fc(x))\n",
    "        h = self.fc2(h)\n",
    "        return F.log_softmax(h)    \n",
    "    \n",
    "#initialize the model   \n",
    "network = Model()\n",
    "if cuda:\n",
    "    model.cuda() # CUDA!\n",
    "#initialize the optimizer   \n",
    "learning_rate = 0.01\n",
    "momentum = 0.5\n",
    "optimizer = optim.SGD(network.parameters(), lr=learning_rate,\n",
    "                      momentum=momentum)"
   ]
  },
  {
   "cell_type": "markdown",
   "metadata": {},
   "source": [
    "## Train and Evaluate"
   ]
  },
  {
   "cell_type": "code",
   "execution_count": 22,
   "metadata": {},
   "outputs": [],
   "source": [
    "n_epochs = 3##50000/64*3\n",
    "train_losses = []\n",
    "train_counter = []\n",
    "test_losses = []\n",
    "test_counter = [i*len(train_loader.dataset) for i in range(n_epochs + 1)]\n",
    "log_interval = 100 ##64*100"
   ]
  },
  {
   "cell_type": "code",
   "execution_count": 23,
   "metadata": {},
   "outputs": [],
   "source": [
    "def train(epoch):\n",
    "  network.train()##50000/64\n",
    "  for batch_idx, (data, target) in enumerate(train_loader):\n",
    "    optimizer.zero_grad()\n",
    "    output = network(data)\n",
    "    loss = F.nll_loss(output, target)\n",
    "    loss.backward()\n",
    "    optimizer.step()\n",
    "    if batch_idx % log_interval == 0:\n",
    "      print('Train Epoch: {} [{}/{} ({:.0f}%)]\\tLoss: {:.6f}'.format(\n",
    "        epoch, batch_idx * len(data), len(train_loader.dataset),\n",
    "        100. * batch_idx / len(train_loader), loss.item()))\n",
    "      train_losses.append(loss.item())\n",
    "      train_counter.append(\n",
    "        (batch_idx*64) + ((epoch-1)*len(train_loader.dataset)))\n",
    "      torch.save(network.state_dict(), './results/model.pth')\n",
    "      torch.save(optimizer.state_dict(), './results/optimizer.pth')"
   ]
  },
  {
   "cell_type": "code",
   "execution_count": 24,
   "metadata": {},
   "outputs": [],
   "source": [
    "def test():\n",
    "  network.eval()\n",
    "  test_loss = 0\n",
    "  correct = 0\n",
    "  with torch.no_grad():\n",
    "    for data, target in test_loader:\n",
    "      output = network(data)\n",
    "      test_loss += F.nll_loss(output, target, size_average=False).item()\n",
    "      pred = output.data.max(1, keepdim=True)[1]\n",
    "      correct += pred.eq(target.data.view_as(pred)).sum()\n",
    "  test_loss /= len(test_loader.dataset)\n",
    "  test_losses.append(test_loss)\n",
    "  print('\\nTest set: Avg. loss: {:.4f}, Accuracy: {}/{} ({:.0f}%)\\n'.format(\n",
    "    test_loss, correct, len(test_loader.dataset),\n",
    "    100. * correct / len(test_loader.dataset)))"
   ]
  },
  {
   "cell_type": "code",
   "execution_count": 25,
   "metadata": {},
   "outputs": [
    {
     "name": "stderr",
     "output_type": "stream",
     "text": [
      "<ipython-input-21-877277782890>:12: UserWarning: Implicit dimension choice for log_softmax has been deprecated. Change the call to include dim=X as an argument.\n",
      "  return F.log_softmax(h)\n",
      "/Users/leowang7267/anaconda3/lib/python3.8/site-packages/torch/nn/_reduction.py:44: UserWarning: size_average and reduce args will be deprecated, please use reduction='sum' instead.\n",
      "  warnings.warn(warning.format(ret))\n"
     ]
    },
    {
     "name": "stdout",
     "output_type": "stream",
     "text": [
      "\n",
      "Test set: Avg. loss: 2.3063, Accuracy: 935/10000 (9%)\n",
      "\n",
      "Train Epoch: 1 [0/60000 (0%)]\tLoss: 2.309312\n",
      "Train Epoch: 1 [640/60000 (1%)]\tLoss: 1.905449\n",
      "Train Epoch: 1 [1280/60000 (2%)]\tLoss: 1.445990\n",
      "Train Epoch: 1 [1920/60000 (3%)]\tLoss: 1.090124\n",
      "Train Epoch: 1 [2560/60000 (4%)]\tLoss: 0.941089\n",
      "Train Epoch: 1 [3200/60000 (5%)]\tLoss: 0.911880\n",
      "Train Epoch: 1 [3840/60000 (6%)]\tLoss: 0.732279\n",
      "Train Epoch: 1 [4480/60000 (7%)]\tLoss: 0.634407\n",
      "Train Epoch: 1 [5120/60000 (9%)]\tLoss: 0.708026\n",
      "Train Epoch: 1 [5760/60000 (10%)]\tLoss: 0.633819\n",
      "Train Epoch: 1 [6400/60000 (11%)]\tLoss: 0.524470\n",
      "Train Epoch: 1 [7040/60000 (12%)]\tLoss: 0.423778\n",
      "Train Epoch: 1 [7680/60000 (13%)]\tLoss: 0.374417\n",
      "Train Epoch: 1 [8320/60000 (14%)]\tLoss: 0.524601\n",
      "Train Epoch: 1 [8960/60000 (15%)]\tLoss: 0.384220\n",
      "Train Epoch: 1 [9600/60000 (16%)]\tLoss: 0.468658\n",
      "Train Epoch: 1 [10240/60000 (17%)]\tLoss: 0.632019\n",
      "Train Epoch: 1 [10880/60000 (18%)]\tLoss: 0.386258\n",
      "Train Epoch: 1 [11520/60000 (19%)]\tLoss: 0.510153\n",
      "Train Epoch: 1 [12160/60000 (20%)]\tLoss: 0.331353\n",
      "Train Epoch: 1 [12800/60000 (21%)]\tLoss: 0.305914\n",
      "Train Epoch: 1 [13440/60000 (22%)]\tLoss: 0.445960\n",
      "Train Epoch: 1 [14080/60000 (23%)]\tLoss: 0.385348\n",
      "Train Epoch: 1 [14720/60000 (25%)]\tLoss: 0.602076\n",
      "Train Epoch: 1 [15360/60000 (26%)]\tLoss: 0.338104\n",
      "Train Epoch: 1 [16000/60000 (27%)]\tLoss: 0.317602\n",
      "Train Epoch: 1 [16640/60000 (28%)]\tLoss: 0.408439\n",
      "Train Epoch: 1 [17280/60000 (29%)]\tLoss: 0.376721\n",
      "Train Epoch: 1 [17920/60000 (30%)]\tLoss: 0.356025\n",
      "Train Epoch: 1 [18560/60000 (31%)]\tLoss: 0.340687\n",
      "Train Epoch: 1 [19200/60000 (32%)]\tLoss: 0.320500\n",
      "Train Epoch: 1 [19840/60000 (33%)]\tLoss: 0.463926\n",
      "Train Epoch: 1 [20480/60000 (34%)]\tLoss: 0.328153\n",
      "Train Epoch: 1 [21120/60000 (35%)]\tLoss: 0.414651\n",
      "Train Epoch: 1 [21760/60000 (36%)]\tLoss: 0.351992\n",
      "Train Epoch: 1 [22400/60000 (37%)]\tLoss: 0.380748\n",
      "Train Epoch: 1 [23040/60000 (38%)]\tLoss: 0.263566\n",
      "Train Epoch: 1 [23680/60000 (39%)]\tLoss: 0.199139\n",
      "Train Epoch: 1 [24320/60000 (41%)]\tLoss: 0.247014\n",
      "Train Epoch: 1 [24960/60000 (42%)]\tLoss: 0.236213\n",
      "Train Epoch: 1 [25600/60000 (43%)]\tLoss: 0.335989\n",
      "Train Epoch: 1 [26240/60000 (44%)]\tLoss: 0.282440\n",
      "Train Epoch: 1 [26880/60000 (45%)]\tLoss: 0.441403\n",
      "Train Epoch: 1 [27520/60000 (46%)]\tLoss: 0.214709\n",
      "Train Epoch: 1 [28160/60000 (47%)]\tLoss: 0.302852\n",
      "Train Epoch: 1 [28800/60000 (48%)]\tLoss: 0.234049\n",
      "Train Epoch: 1 [29440/60000 (49%)]\tLoss: 0.307926\n",
      "Train Epoch: 1 [30080/60000 (50%)]\tLoss: 0.200972\n",
      "Train Epoch: 1 [30720/60000 (51%)]\tLoss: 0.174490\n",
      "Train Epoch: 1 [31360/60000 (52%)]\tLoss: 0.399894\n",
      "Train Epoch: 1 [32000/60000 (53%)]\tLoss: 0.348113\n",
      "Train Epoch: 1 [32640/60000 (54%)]\tLoss: 0.228972\n",
      "Train Epoch: 1 [33280/60000 (55%)]\tLoss: 0.291254\n",
      "Train Epoch: 1 [33920/60000 (57%)]\tLoss: 0.207585\n",
      "Train Epoch: 1 [34560/60000 (58%)]\tLoss: 0.327963\n",
      "Train Epoch: 1 [35200/60000 (59%)]\tLoss: 0.300590\n",
      "Train Epoch: 1 [35840/60000 (60%)]\tLoss: 0.304087\n",
      "Train Epoch: 1 [36480/60000 (61%)]\tLoss: 0.291858\n",
      "Train Epoch: 1 [37120/60000 (62%)]\tLoss: 0.380200\n",
      "Train Epoch: 1 [37760/60000 (63%)]\tLoss: 0.280665\n",
      "Train Epoch: 1 [38400/60000 (64%)]\tLoss: 0.281139\n",
      "Train Epoch: 1 [39040/60000 (65%)]\tLoss: 0.210894\n",
      "Train Epoch: 1 [39680/60000 (66%)]\tLoss: 0.187565\n",
      "Train Epoch: 1 [40320/60000 (67%)]\tLoss: 0.220141\n",
      "Train Epoch: 1 [40960/60000 (68%)]\tLoss: 0.302313\n",
      "Train Epoch: 1 [41600/60000 (69%)]\tLoss: 0.198893\n",
      "Train Epoch: 1 [42240/60000 (70%)]\tLoss: 0.366735\n",
      "Train Epoch: 1 [42880/60000 (71%)]\tLoss: 0.152116\n",
      "Train Epoch: 1 [43520/60000 (72%)]\tLoss: 0.184478\n",
      "Train Epoch: 1 [44160/60000 (74%)]\tLoss: 0.280447\n",
      "Train Epoch: 1 [44800/60000 (75%)]\tLoss: 0.210539\n",
      "Train Epoch: 1 [45440/60000 (76%)]\tLoss: 0.197889\n",
      "Train Epoch: 1 [46080/60000 (77%)]\tLoss: 0.231858\n",
      "Train Epoch: 1 [46720/60000 (78%)]\tLoss: 0.141440\n",
      "Train Epoch: 1 [47360/60000 (79%)]\tLoss: 0.195354\n",
      "Train Epoch: 1 [48000/60000 (80%)]\tLoss: 0.338665\n",
      "Train Epoch: 1 [48640/60000 (81%)]\tLoss: 0.145806\n",
      "Train Epoch: 1 [49280/60000 (82%)]\tLoss: 0.340703\n",
      "Train Epoch: 1 [49920/60000 (83%)]\tLoss: 0.482919\n",
      "Train Epoch: 1 [50560/60000 (84%)]\tLoss: 0.166953\n",
      "Train Epoch: 1 [51200/60000 (85%)]\tLoss: 0.453030\n",
      "Train Epoch: 1 [51840/60000 (86%)]\tLoss: 0.247759\n",
      "Train Epoch: 1 [52480/60000 (87%)]\tLoss: 0.383643\n",
      "Train Epoch: 1 [53120/60000 (88%)]\tLoss: 0.297877\n",
      "Train Epoch: 1 [53760/60000 (90%)]\tLoss: 0.174574\n",
      "Train Epoch: 1 [54400/60000 (91%)]\tLoss: 0.361553\n",
      "Train Epoch: 1 [55040/60000 (92%)]\tLoss: 0.139460\n",
      "Train Epoch: 1 [55680/60000 (93%)]\tLoss: 0.318287\n",
      "Train Epoch: 1 [56320/60000 (94%)]\tLoss: 0.310191\n",
      "Train Epoch: 1 [56960/60000 (95%)]\tLoss: 0.256731\n",
      "Train Epoch: 1 [57600/60000 (96%)]\tLoss: 0.247790\n",
      "Train Epoch: 1 [58240/60000 (97%)]\tLoss: 0.284383\n",
      "Train Epoch: 1 [58880/60000 (98%)]\tLoss: 0.146678\n",
      "Train Epoch: 1 [59520/60000 (99%)]\tLoss: 0.221916\n",
      "\n",
      "Test set: Avg. loss: 0.2444, Accuracy: 9311/10000 (93%)\n",
      "\n",
      "Train Epoch: 2 [0/60000 (0%)]\tLoss: 0.354732\n",
      "Train Epoch: 2 [640/60000 (1%)]\tLoss: 0.426827\n",
      "Train Epoch: 2 [1280/60000 (2%)]\tLoss: 0.199657\n",
      "Train Epoch: 2 [1920/60000 (3%)]\tLoss: 0.382559\n",
      "Train Epoch: 2 [2560/60000 (4%)]\tLoss: 0.230558\n",
      "Train Epoch: 2 [3200/60000 (5%)]\tLoss: 0.543881\n",
      "Train Epoch: 2 [3840/60000 (6%)]\tLoss: 0.233203\n",
      "Train Epoch: 2 [4480/60000 (7%)]\tLoss: 0.197527\n",
      "Train Epoch: 2 [5120/60000 (9%)]\tLoss: 0.281238\n",
      "Train Epoch: 2 [5760/60000 (10%)]\tLoss: 0.217030\n",
      "Train Epoch: 2 [6400/60000 (11%)]\tLoss: 0.287640\n",
      "Train Epoch: 2 [7040/60000 (12%)]\tLoss: 0.117088\n",
      "Train Epoch: 2 [7680/60000 (13%)]\tLoss: 0.302494\n",
      "Train Epoch: 2 [8320/60000 (14%)]\tLoss: 0.177436\n",
      "Train Epoch: 2 [8960/60000 (15%)]\tLoss: 0.262692\n",
      "Train Epoch: 2 [9600/60000 (16%)]\tLoss: 0.351427\n",
      "Train Epoch: 2 [10240/60000 (17%)]\tLoss: 0.108900\n",
      "Train Epoch: 2 [10880/60000 (18%)]\tLoss: 0.218172\n",
      "Train Epoch: 2 [11520/60000 (19%)]\tLoss: 0.095858\n",
      "Train Epoch: 2 [12160/60000 (20%)]\tLoss: 0.191898\n",
      "Train Epoch: 2 [12800/60000 (21%)]\tLoss: 0.314156\n",
      "Train Epoch: 2 [13440/60000 (22%)]\tLoss: 0.253254\n",
      "Train Epoch: 2 [14080/60000 (23%)]\tLoss: 0.137236\n",
      "Train Epoch: 2 [14720/60000 (25%)]\tLoss: 0.229890\n",
      "Train Epoch: 2 [15360/60000 (26%)]\tLoss: 0.119185\n",
      "Train Epoch: 2 [16000/60000 (27%)]\tLoss: 0.188755\n",
      "Train Epoch: 2 [16640/60000 (28%)]\tLoss: 0.115474\n",
      "Train Epoch: 2 [17280/60000 (29%)]\tLoss: 0.362558\n",
      "Train Epoch: 2 [17920/60000 (30%)]\tLoss: 0.125966\n",
      "Train Epoch: 2 [18560/60000 (31%)]\tLoss: 0.187471\n",
      "Train Epoch: 2 [19200/60000 (32%)]\tLoss: 0.317528\n",
      "Train Epoch: 2 [19840/60000 (33%)]\tLoss: 0.191076\n",
      "Train Epoch: 2 [20480/60000 (34%)]\tLoss: 0.231045\n",
      "Train Epoch: 2 [21120/60000 (35%)]\tLoss: 0.226349\n",
      "Train Epoch: 2 [21760/60000 (36%)]\tLoss: 0.195401\n",
      "Train Epoch: 2 [22400/60000 (37%)]\tLoss: 0.174851\n",
      "Train Epoch: 2 [23040/60000 (38%)]\tLoss: 0.176865\n",
      "Train Epoch: 2 [23680/60000 (39%)]\tLoss: 0.198721\n",
      "Train Epoch: 2 [24320/60000 (41%)]\tLoss: 0.147272\n",
      "Train Epoch: 2 [24960/60000 (42%)]\tLoss: 0.212798\n",
      "Train Epoch: 2 [25600/60000 (43%)]\tLoss: 0.273519\n",
      "Train Epoch: 2 [26240/60000 (44%)]\tLoss: 0.274238\n",
      "Train Epoch: 2 [26880/60000 (45%)]\tLoss: 0.149954\n",
      "Train Epoch: 2 [27520/60000 (46%)]\tLoss: 0.139053\n",
      "Train Epoch: 2 [28160/60000 (47%)]\tLoss: 0.370667\n",
      "Train Epoch: 2 [28800/60000 (48%)]\tLoss: 0.231114\n",
      "Train Epoch: 2 [29440/60000 (49%)]\tLoss: 0.171324\n",
      "Train Epoch: 2 [30080/60000 (50%)]\tLoss: 0.188003\n",
      "Train Epoch: 2 [30720/60000 (51%)]\tLoss: 0.266405\n",
      "Train Epoch: 2 [31360/60000 (52%)]\tLoss: 0.162241\n",
      "Train Epoch: 2 [32000/60000 (53%)]\tLoss: 0.206395\n",
      "Train Epoch: 2 [32640/60000 (54%)]\tLoss: 0.159211\n",
      "Train Epoch: 2 [33280/60000 (55%)]\tLoss: 0.128832\n",
      "Train Epoch: 2 [33920/60000 (57%)]\tLoss: 0.240586\n",
      "Train Epoch: 2 [34560/60000 (58%)]\tLoss: 0.260322\n",
      "Train Epoch: 2 [35200/60000 (59%)]\tLoss: 0.190410\n",
      "Train Epoch: 2 [35840/60000 (60%)]\tLoss: 0.179288\n",
      "Train Epoch: 2 [36480/60000 (61%)]\tLoss: 0.318271\n",
      "Train Epoch: 2 [37120/60000 (62%)]\tLoss: 0.090983\n",
      "Train Epoch: 2 [37760/60000 (63%)]\tLoss: 0.141209\n",
      "Train Epoch: 2 [38400/60000 (64%)]\tLoss: 0.212219\n",
      "Train Epoch: 2 [39040/60000 (65%)]\tLoss: 0.135174\n",
      "Train Epoch: 2 [39680/60000 (66%)]\tLoss: 0.129784\n",
      "Train Epoch: 2 [40320/60000 (67%)]\tLoss: 0.216368\n",
      "Train Epoch: 2 [40960/60000 (68%)]\tLoss: 0.185747\n",
      "Train Epoch: 2 [41600/60000 (69%)]\tLoss: 0.167115\n",
      "Train Epoch: 2 [42240/60000 (70%)]\tLoss: 0.190409\n",
      "Train Epoch: 2 [42880/60000 (71%)]\tLoss: 0.348488\n",
      "Train Epoch: 2 [43520/60000 (72%)]\tLoss: 0.203117\n",
      "Train Epoch: 2 [44160/60000 (74%)]\tLoss: 0.224358\n"
     ]
    },
    {
     "name": "stdout",
     "output_type": "stream",
     "text": [
      "Train Epoch: 2 [44800/60000 (75%)]\tLoss: 0.313221\n",
      "Train Epoch: 2 [45440/60000 (76%)]\tLoss: 0.548360\n",
      "Train Epoch: 2 [46080/60000 (77%)]\tLoss: 0.148886\n",
      "Train Epoch: 2 [46720/60000 (78%)]\tLoss: 0.269383\n",
      "Train Epoch: 2 [47360/60000 (79%)]\tLoss: 0.201992\n",
      "Train Epoch: 2 [48000/60000 (80%)]\tLoss: 0.402785\n",
      "Train Epoch: 2 [48640/60000 (81%)]\tLoss: 0.120880\n",
      "Train Epoch: 2 [49280/60000 (82%)]\tLoss: 0.259719\n",
      "Train Epoch: 2 [49920/60000 (83%)]\tLoss: 0.295944\n",
      "Train Epoch: 2 [50560/60000 (84%)]\tLoss: 0.100017\n",
      "Train Epoch: 2 [51200/60000 (85%)]\tLoss: 0.250506\n",
      "Train Epoch: 2 [51840/60000 (86%)]\tLoss: 0.244520\n",
      "Train Epoch: 2 [52480/60000 (87%)]\tLoss: 0.157423\n",
      "Train Epoch: 2 [53120/60000 (88%)]\tLoss: 0.125579\n",
      "Train Epoch: 2 [53760/60000 (90%)]\tLoss: 0.226348\n",
      "Train Epoch: 2 [54400/60000 (91%)]\tLoss: 0.195767\n",
      "Train Epoch: 2 [55040/60000 (92%)]\tLoss: 0.130903\n",
      "Train Epoch: 2 [55680/60000 (93%)]\tLoss: 0.174180\n",
      "Train Epoch: 2 [56320/60000 (94%)]\tLoss: 0.204873\n",
      "Train Epoch: 2 [56960/60000 (95%)]\tLoss: 0.123568\n",
      "Train Epoch: 2 [57600/60000 (96%)]\tLoss: 0.059029\n",
      "Train Epoch: 2 [58240/60000 (97%)]\tLoss: 0.129821\n",
      "Train Epoch: 2 [58880/60000 (98%)]\tLoss: 0.332615\n",
      "Train Epoch: 2 [59520/60000 (99%)]\tLoss: 0.244372\n",
      "\n",
      "Test set: Avg. loss: 0.1837, Accuracy: 9469/10000 (95%)\n",
      "\n",
      "Train Epoch: 3 [0/60000 (0%)]\tLoss: 0.152255\n",
      "Train Epoch: 3 [640/60000 (1%)]\tLoss: 0.117402\n",
      "Train Epoch: 3 [1280/60000 (2%)]\tLoss: 0.295450\n",
      "Train Epoch: 3 [1920/60000 (3%)]\tLoss: 0.082817\n",
      "Train Epoch: 3 [2560/60000 (4%)]\tLoss: 0.139075\n",
      "Train Epoch: 3 [3200/60000 (5%)]\tLoss: 0.115516\n",
      "Train Epoch: 3 [3840/60000 (6%)]\tLoss: 0.168340\n",
      "Train Epoch: 3 [4480/60000 (7%)]\tLoss: 0.208516\n",
      "Train Epoch: 3 [5120/60000 (9%)]\tLoss: 0.176929\n",
      "Train Epoch: 3 [5760/60000 (10%)]\tLoss: 0.220655\n",
      "Train Epoch: 3 [6400/60000 (11%)]\tLoss: 0.221088\n",
      "Train Epoch: 3 [7040/60000 (12%)]\tLoss: 0.168206\n",
      "Train Epoch: 3 [7680/60000 (13%)]\tLoss: 0.245143\n",
      "Train Epoch: 3 [8320/60000 (14%)]\tLoss: 0.188594\n",
      "Train Epoch: 3 [8960/60000 (15%)]\tLoss: 0.220020\n",
      "Train Epoch: 3 [9600/60000 (16%)]\tLoss: 0.148622\n",
      "Train Epoch: 3 [10240/60000 (17%)]\tLoss: 0.074760\n",
      "Train Epoch: 3 [10880/60000 (18%)]\tLoss: 0.261972\n",
      "Train Epoch: 3 [11520/60000 (19%)]\tLoss: 0.219997\n",
      "Train Epoch: 3 [12160/60000 (20%)]\tLoss: 0.255711\n",
      "Train Epoch: 3 [12800/60000 (21%)]\tLoss: 0.101603\n",
      "Train Epoch: 3 [13440/60000 (22%)]\tLoss: 0.148970\n",
      "Train Epoch: 3 [14080/60000 (23%)]\tLoss: 0.374038\n",
      "Train Epoch: 3 [14720/60000 (25%)]\tLoss: 0.246074\n",
      "Train Epoch: 3 [15360/60000 (26%)]\tLoss: 0.211470\n",
      "Train Epoch: 3 [16000/60000 (27%)]\tLoss: 0.063052\n",
      "Train Epoch: 3 [16640/60000 (28%)]\tLoss: 0.164334\n",
      "Train Epoch: 3 [17280/60000 (29%)]\tLoss: 0.192480\n",
      "Train Epoch: 3 [17920/60000 (30%)]\tLoss: 0.154782\n",
      "Train Epoch: 3 [18560/60000 (31%)]\tLoss: 0.172323\n",
      "Train Epoch: 3 [19200/60000 (32%)]\tLoss: 0.134526\n",
      "Train Epoch: 3 [19840/60000 (33%)]\tLoss: 0.206513\n",
      "Train Epoch: 3 [20480/60000 (34%)]\tLoss: 0.276686\n",
      "Train Epoch: 3 [21120/60000 (35%)]\tLoss: 0.121252\n",
      "Train Epoch: 3 [21760/60000 (36%)]\tLoss: 0.229286\n",
      "Train Epoch: 3 [22400/60000 (37%)]\tLoss: 0.125820\n",
      "Train Epoch: 3 [23040/60000 (38%)]\tLoss: 0.197045\n",
      "Train Epoch: 3 [23680/60000 (39%)]\tLoss: 0.106426\n",
      "Train Epoch: 3 [24320/60000 (41%)]\tLoss: 0.209842\n",
      "Train Epoch: 3 [24960/60000 (42%)]\tLoss: 0.175096\n",
      "Train Epoch: 3 [25600/60000 (43%)]\tLoss: 0.216584\n",
      "Train Epoch: 3 [26240/60000 (44%)]\tLoss: 0.073938\n",
      "Train Epoch: 3 [26880/60000 (45%)]\tLoss: 0.179880\n",
      "Train Epoch: 3 [27520/60000 (46%)]\tLoss: 0.247124\n",
      "Train Epoch: 3 [28160/60000 (47%)]\tLoss: 0.068403\n",
      "Train Epoch: 3 [28800/60000 (48%)]\tLoss: 0.178677\n",
      "Train Epoch: 3 [29440/60000 (49%)]\tLoss: 0.093289\n",
      "Train Epoch: 3 [30080/60000 (50%)]\tLoss: 0.102246\n",
      "Train Epoch: 3 [30720/60000 (51%)]\tLoss: 0.096300\n",
      "Train Epoch: 3 [31360/60000 (52%)]\tLoss: 0.174536\n",
      "Train Epoch: 3 [32000/60000 (53%)]\tLoss: 0.138472\n",
      "Train Epoch: 3 [32640/60000 (54%)]\tLoss: 0.389872\n",
      "Train Epoch: 3 [33280/60000 (55%)]\tLoss: 0.110361\n",
      "Train Epoch: 3 [33920/60000 (57%)]\tLoss: 0.102822\n",
      "Train Epoch: 3 [34560/60000 (58%)]\tLoss: 0.076588\n",
      "Train Epoch: 3 [35200/60000 (59%)]\tLoss: 0.155470\n",
      "Train Epoch: 3 [35840/60000 (60%)]\tLoss: 0.180508\n",
      "Train Epoch: 3 [36480/60000 (61%)]\tLoss: 0.113786\n",
      "Train Epoch: 3 [37120/60000 (62%)]\tLoss: 0.242703\n",
      "Train Epoch: 3 [37760/60000 (63%)]\tLoss: 0.114168\n",
      "Train Epoch: 3 [38400/60000 (64%)]\tLoss: 0.422792\n",
      "Train Epoch: 3 [39040/60000 (65%)]\tLoss: 0.076654\n",
      "Train Epoch: 3 [39680/60000 (66%)]\tLoss: 0.225276\n",
      "Train Epoch: 3 [40320/60000 (67%)]\tLoss: 0.096955\n",
      "Train Epoch: 3 [40960/60000 (68%)]\tLoss: 0.105278\n",
      "Train Epoch: 3 [41600/60000 (69%)]\tLoss: 0.128681\n",
      "Train Epoch: 3 [42240/60000 (70%)]\tLoss: 0.119916\n",
      "Train Epoch: 3 [42880/60000 (71%)]\tLoss: 0.080688\n",
      "Train Epoch: 3 [43520/60000 (72%)]\tLoss: 0.256520\n",
      "Train Epoch: 3 [44160/60000 (74%)]\tLoss: 0.161483\n",
      "Train Epoch: 3 [44800/60000 (75%)]\tLoss: 0.177055\n",
      "Train Epoch: 3 [45440/60000 (76%)]\tLoss: 0.215342\n",
      "Train Epoch: 3 [46080/60000 (77%)]\tLoss: 0.115728\n",
      "Train Epoch: 3 [46720/60000 (78%)]\tLoss: 0.171430\n",
      "Train Epoch: 3 [47360/60000 (79%)]\tLoss: 0.158996\n",
      "Train Epoch: 3 [48000/60000 (80%)]\tLoss: 0.184987\n",
      "Train Epoch: 3 [48640/60000 (81%)]\tLoss: 0.134043\n",
      "Train Epoch: 3 [49280/60000 (82%)]\tLoss: 0.159493\n",
      "Train Epoch: 3 [49920/60000 (83%)]\tLoss: 0.146683\n",
      "Train Epoch: 3 [50560/60000 (84%)]\tLoss: 0.118662\n",
      "Train Epoch: 3 [51200/60000 (85%)]\tLoss: 0.093369\n",
      "Train Epoch: 3 [51840/60000 (86%)]\tLoss: 0.125183\n",
      "Train Epoch: 3 [52480/60000 (87%)]\tLoss: 0.112510\n",
      "Train Epoch: 3 [53120/60000 (88%)]\tLoss: 0.179384\n",
      "Train Epoch: 3 [53760/60000 (90%)]\tLoss: 0.105311\n",
      "Train Epoch: 3 [54400/60000 (91%)]\tLoss: 0.286987\n",
      "Train Epoch: 3 [55040/60000 (92%)]\tLoss: 0.088081\n",
      "Train Epoch: 3 [55680/60000 (93%)]\tLoss: 0.121327\n",
      "Train Epoch: 3 [56320/60000 (94%)]\tLoss: 0.164533\n",
      "Train Epoch: 3 [56960/60000 (95%)]\tLoss: 0.237952\n",
      "Train Epoch: 3 [57600/60000 (96%)]\tLoss: 0.147265\n",
      "Train Epoch: 3 [58240/60000 (97%)]\tLoss: 0.021855\n",
      "Train Epoch: 3 [58880/60000 (98%)]\tLoss: 0.093089\n",
      "Train Epoch: 3 [59520/60000 (99%)]\tLoss: 0.240883\n",
      "\n",
      "Test set: Avg. loss: 0.1492, Accuracy: 9563/10000 (96%)\n",
      "\n"
     ]
    }
   ],
   "source": [
    "test()\n",
    "for epoch in range(1, n_epochs + 1):\n",
    "  train(epoch)\n",
    "  test()"
   ]
  },
  {
   "cell_type": "markdown",
   "metadata": {},
   "source": [
    "## Plot"
   ]
  },
  {
   "cell_type": "code",
   "execution_count": 26,
   "metadata": {},
   "outputs": [
    {
     "data": {
      "text/plain": [
       "Text(0, 0.5, 'negative log likelihood loss')"
      ]
     },
     "execution_count": 26,
     "metadata": {},
     "output_type": "execute_result"
    },
    {
     "data": {
      "image/png": "[encoded data removed]",
      "text/plain": [
       "<Figure size 432x288 with 1 Axes>"
      ]
     },
     "metadata": {
      "needs_background": "light"
     },
     "output_type": "display_data"
    }
   ],
   "source": [
    "plt.plot(train_counter, train_losses, color='blue')\n",
    "plt.scatter(test_counter, test_losses, color='red')\n",
    "plt.legend(['Train Loss', 'Test Loss'], loc='upper right')\n",
    "plt.xlabel('number of training examples seen')\n",
    "plt.ylabel('negative log likelihood loss')"
   ]
  }
 ],
 "metadata": {
  "kernelspec": {
   "display_name": "Python 3",
   "language": "python",
   "name": "python3"
  },
  "language_info": {
   "codemirror_mode": {
    "name": "ipython",
    "version": 3
   },
   "file_extension": ".py",
   "mimetype": "text/x-python",
   "name": "python",
   "nbconvert_exporter": "python",
   "pygments_lexer": "ipython3",
   "version": "3.8.5"
  }
 },
 "nbformat": 4,
 "nbformat_minor": 2
}
